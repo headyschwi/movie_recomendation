{
 "cells": [
  {
   "cell_type": "markdown",
   "metadata": {},
   "source": [
    "# 1. Aquisição dos Dados"
   ]
  },
  {
   "cell_type": "code",
   "execution_count": 68,
   "metadata": {},
   "outputs": [],
   "source": [
    "import pandas as pd\n",
    "import numpy as np"
   ]
  },
  {
   "cell_type": "code",
   "execution_count": 69,
   "metadata": {},
   "outputs": [],
   "source": [
    "movies = pd.DataFrame = pd.read_csv('movies.csv')\n",
    "ratings = pd.DataFrame = pd.read_csv('ratings.csv')"
   ]
  },
  {
   "cell_type": "markdown",
   "metadata": {},
   "source": [
    "# 2. Pré-processamento dos Dados"
   ]
  },
  {
   "cell_type": "code",
   "execution_count": 70,
   "metadata": {},
   "outputs": [
    {
     "data": {
      "text/html": [
       "<div>\n",
       "<style scoped>\n",
       "    .dataframe tbody tr th:only-of-type {\n",
       "        vertical-align: middle;\n",
       "    }\n",
       "\n",
       "    .dataframe tbody tr th {\n",
       "        vertical-align: top;\n",
       "    }\n",
       "\n",
       "    .dataframe thead th {\n",
       "        text-align: right;\n",
       "    }\n",
       "</style>\n",
       "<table border=\"1\" class=\"dataframe\">\n",
       "  <thead>\n",
       "    <tr style=\"text-align: right;\">\n",
       "      <th></th>\n",
       "      <th>title</th>\n",
       "      <th>genres</th>\n",
       "    </tr>\n",
       "    <tr>\n",
       "      <th>movie_id</th>\n",
       "      <th></th>\n",
       "      <th></th>\n",
       "    </tr>\n",
       "  </thead>\n",
       "  <tbody>\n",
       "    <tr>\n",
       "      <th>1</th>\n",
       "      <td>Toy Story (1995)</td>\n",
       "      <td>Adventure|Animation|Children|Comedy|Fantasy</td>\n",
       "    </tr>\n",
       "    <tr>\n",
       "      <th>2</th>\n",
       "      <td>Jumanji (1995)</td>\n",
       "      <td>Adventure|Children|Fantasy</td>\n",
       "    </tr>\n",
       "    <tr>\n",
       "      <th>3</th>\n",
       "      <td>Grumpier Old Men (1995)</td>\n",
       "      <td>Comedy|Romance</td>\n",
       "    </tr>\n",
       "    <tr>\n",
       "      <th>4</th>\n",
       "      <td>Waiting to Exhale (1995)</td>\n",
       "      <td>Comedy|Drama|Romance</td>\n",
       "    </tr>\n",
       "    <tr>\n",
       "      <th>5</th>\n",
       "      <td>Father of the Bride Part II (1995)</td>\n",
       "      <td>Comedy</td>\n",
       "    </tr>\n",
       "  </tbody>\n",
       "</table>\n",
       "</div>"
      ],
      "text/plain": [
       "                                       title  \\\n",
       "movie_id                                       \n",
       "1                           Toy Story (1995)   \n",
       "2                             Jumanji (1995)   \n",
       "3                    Grumpier Old Men (1995)   \n",
       "4                   Waiting to Exhale (1995)   \n",
       "5         Father of the Bride Part II (1995)   \n",
       "\n",
       "                                               genres  \n",
       "movie_id                                               \n",
       "1         Adventure|Animation|Children|Comedy|Fantasy  \n",
       "2                          Adventure|Children|Fantasy  \n",
       "3                                      Comedy|Romance  \n",
       "4                                Comedy|Drama|Romance  \n",
       "5                                              Comedy  "
      ]
     },
     "execution_count": 70,
     "metadata": {},
     "output_type": "execute_result"
    }
   ],
   "source": [
    "movies.columns = ['movie_id', 'title', 'genres']\n",
    "movies.set_index('movie_id', inplace=True)\n",
    "movies.head()"
   ]
  },
  {
   "cell_type": "code",
   "execution_count": 71,
   "metadata": {},
   "outputs": [],
   "source": [
    "ratings.columns = ['user_id', 'movie_id', 'rating', 'timestamp']"
   ]
  },
  {
   "cell_type": "code",
   "execution_count": 72,
   "metadata": {},
   "outputs": [],
   "source": [
    "movies[\"watched\"] = ratings.groupby(\"movie_id\")[\"rating\"].count()\n",
    "movies[\"mean_rating\"] = ratings.groupby(\"movie_id\")[\"rating\"].mean()"
   ]
  },
  {
   "cell_type": "code",
   "execution_count": 73,
   "metadata": {},
   "outputs": [
    {
     "data": {
      "text/html": [
       "<div>\n",
       "<style scoped>\n",
       "    .dataframe tbody tr th:only-of-type {\n",
       "        vertical-align: middle;\n",
       "    }\n",
       "\n",
       "    .dataframe tbody tr th {\n",
       "        vertical-align: top;\n",
       "    }\n",
       "\n",
       "    .dataframe thead th {\n",
       "        text-align: right;\n",
       "    }\n",
       "</style>\n",
       "<table border=\"1\" class=\"dataframe\">\n",
       "  <thead>\n",
       "    <tr style=\"text-align: right;\">\n",
       "      <th></th>\n",
       "      <th>title</th>\n",
       "      <th>genres</th>\n",
       "      <th>watched</th>\n",
       "      <th>mean_rating</th>\n",
       "    </tr>\n",
       "    <tr>\n",
       "      <th>movie_id</th>\n",
       "      <th></th>\n",
       "      <th></th>\n",
       "      <th></th>\n",
       "      <th></th>\n",
       "    </tr>\n",
       "  </thead>\n",
       "  <tbody>\n",
       "    <tr>\n",
       "      <th>1</th>\n",
       "      <td>Toy Story (1995)</td>\n",
       "      <td>Adventure|Animation|Children|Comedy|Fantasy</td>\n",
       "      <td>215.0</td>\n",
       "      <td>3.920930</td>\n",
       "    </tr>\n",
       "    <tr>\n",
       "      <th>2</th>\n",
       "      <td>Jumanji (1995)</td>\n",
       "      <td>Adventure|Children|Fantasy</td>\n",
       "      <td>110.0</td>\n",
       "      <td>3.431818</td>\n",
       "    </tr>\n",
       "    <tr>\n",
       "      <th>3</th>\n",
       "      <td>Grumpier Old Men (1995)</td>\n",
       "      <td>Comedy|Romance</td>\n",
       "      <td>52.0</td>\n",
       "      <td>3.259615</td>\n",
       "    </tr>\n",
       "    <tr>\n",
       "      <th>4</th>\n",
       "      <td>Waiting to Exhale (1995)</td>\n",
       "      <td>Comedy|Drama|Romance</td>\n",
       "      <td>7.0</td>\n",
       "      <td>2.357143</td>\n",
       "    </tr>\n",
       "    <tr>\n",
       "      <th>5</th>\n",
       "      <td>Father of the Bride Part II (1995)</td>\n",
       "      <td>Comedy</td>\n",
       "      <td>49.0</td>\n",
       "      <td>3.071429</td>\n",
       "    </tr>\n",
       "  </tbody>\n",
       "</table>\n",
       "</div>"
      ],
      "text/plain": [
       "                                       title  \\\n",
       "movie_id                                       \n",
       "1                           Toy Story (1995)   \n",
       "2                             Jumanji (1995)   \n",
       "3                    Grumpier Old Men (1995)   \n",
       "4                   Waiting to Exhale (1995)   \n",
       "5         Father of the Bride Part II (1995)   \n",
       "\n",
       "                                               genres  watched  mean_rating  \n",
       "movie_id                                                                     \n",
       "1         Adventure|Animation|Children|Comedy|Fantasy    215.0     3.920930  \n",
       "2                          Adventure|Children|Fantasy    110.0     3.431818  \n",
       "3                                      Comedy|Romance     52.0     3.259615  \n",
       "4                                Comedy|Drama|Romance      7.0     2.357143  \n",
       "5                                              Comedy     49.0     3.071429  "
      ]
     },
     "execution_count": 73,
     "metadata": {},
     "output_type": "execute_result"
    }
   ],
   "source": [
    "movies.head()"
   ]
  },
  {
   "cell_type": "markdown",
   "metadata": {},
   "source": [
    "# 3. Modelagem (KNN)"
   ]
  },
  {
   "cell_type": "markdown",
   "metadata": {},
   "source": [
    "## Obter distância entre o usuário e os outros"
   ]
  },
  {
   "cell_type": "code",
   "execution_count": 74,
   "metadata": {},
   "outputs": [],
   "source": [
    "def get_distances(user_id):\n",
    "    distancias = []\n",
    "    for user in ratings[\"user_id\"].unique():\n",
    "        if user_id == user:\n",
    "            continue\n",
    "\n",
    "        user1_ratings = ratings[ratings[\"user_id\"]==user_id][[\"movie_id\", \"rating\"]]\n",
    "        user2_ratings = ratings[ratings[\"user_id\"]==user][[\"movie_id\", \"rating\"]]\n",
    "\n",
    "        movies_in_common = pd.merge(user1_ratings, user2_ratings, on=\"movie_id\", suffixes=(\"_user1\", \"_user2\"))\n",
    "\n",
    "        if len(movies_in_common) < 10:\n",
    "            continue\n",
    "\n",
    "        distance = np.linalg.norm(movies_in_common[\"rating_user1\"] - movies_in_common[\"rating_user2\"])\n",
    "\n",
    "        distancias.append([user_id, user, distance])\n",
    "\n",
    "    distancias.sort(key=lambda x: x[2])\n",
    "    return distancias"
   ]
  },
  {
   "cell_type": "markdown",
   "metadata": {},
   "source": [
    "## Obter as recomendações com base nos K usuários mais próximos"
   ]
  },
  {
   "cell_type": "code",
   "execution_count": 75,
   "metadata": {},
   "outputs": [],
   "source": [
    "def get_recommendations(user_id, k=15, min_popularity=5):\n",
    "\n",
    "    distances = get_distances(user_id)\n",
    "    user_movies = ratings[ratings[\"user_id\"]==user_id][[\"movie_id\", \"rating\"]]\n",
    "\n",
    "    recomendations = []\n",
    "\n",
    "    for neighbor in distances[:k]:\n",
    "\n",
    "        neighbor_id = neighbor[1]\n",
    "\n",
    "        neighbor_movies = ratings[ratings[\"user_id\"]==neighbor_id][[\"movie_id\", \"rating\"]]\n",
    "\n",
    "        for movie_id in neighbor_movies[\"movie_id\"].unique():\n",
    "            if movie_id in user_movies[\"movie_id\"].unique():\n",
    "                continue\n",
    "\n",
    "            if movies.loc[movie_id][\"watched\"] < min_popularity:\n",
    "                continue                \n",
    "\n",
    "            recomendations.append([movie_id, neighbor_id])\n",
    "\n",
    "    return recomendations"
   ]
  },
  {
   "cell_type": "markdown",
   "metadata": {},
   "source": [
    "## Transformar num dataframe"
   ]
  },
  {
   "cell_type": "code",
   "execution_count": 82,
   "metadata": {},
   "outputs": [
    {
     "data": {
      "text/html": [
       "<div>\n",
       "<style scoped>\n",
       "    .dataframe tbody tr th:only-of-type {\n",
       "        vertical-align: middle;\n",
       "    }\n",
       "\n",
       "    .dataframe tbody tr th {\n",
       "        vertical-align: top;\n",
       "    }\n",
       "\n",
       "    .dataframe thead th {\n",
       "        text-align: right;\n",
       "    }\n",
       "</style>\n",
       "<table border=\"1\" class=\"dataframe\">\n",
       "  <thead>\n",
       "    <tr style=\"text-align: right;\">\n",
       "      <th></th>\n",
       "      <th>title</th>\n",
       "      <th>genres</th>\n",
       "      <th>watched</th>\n",
       "      <th>mean_rating</th>\n",
       "    </tr>\n",
       "    <tr>\n",
       "      <th>movie_id</th>\n",
       "      <th></th>\n",
       "      <th></th>\n",
       "      <th></th>\n",
       "      <th></th>\n",
       "    </tr>\n",
       "  </thead>\n",
       "  <tbody>\n",
       "    <tr>\n",
       "      <th>1</th>\n",
       "      <td>Toy Story (1995)</td>\n",
       "      <td>Adventure|Animation|Children|Comedy|Fantasy</td>\n",
       "      <td>215.0</td>\n",
       "      <td>3.920930</td>\n",
       "    </tr>\n",
       "    <tr>\n",
       "      <th>2</th>\n",
       "      <td>Jumanji (1995)</td>\n",
       "      <td>Adventure|Children|Fantasy</td>\n",
       "      <td>110.0</td>\n",
       "      <td>3.431818</td>\n",
       "    </tr>\n",
       "    <tr>\n",
       "      <th>6</th>\n",
       "      <td>Heat (1995)</td>\n",
       "      <td>Action|Crime|Thriller</td>\n",
       "      <td>102.0</td>\n",
       "      <td>3.946078</td>\n",
       "    </tr>\n",
       "    <tr>\n",
       "      <th>10</th>\n",
       "      <td>GoldenEye (1995)</td>\n",
       "      <td>Action|Adventure|Thriller</td>\n",
       "      <td>132.0</td>\n",
       "      <td>3.496212</td>\n",
       "    </tr>\n",
       "    <tr>\n",
       "      <th>12</th>\n",
       "      <td>Dracula: Dead and Loving It (1995)</td>\n",
       "      <td>Comedy|Horror</td>\n",
       "      <td>19.0</td>\n",
       "      <td>2.421053</td>\n",
       "    </tr>\n",
       "    <tr>\n",
       "      <th>16</th>\n",
       "      <td>Casino (1995)</td>\n",
       "      <td>Crime|Drama</td>\n",
       "      <td>82.0</td>\n",
       "      <td>3.926829</td>\n",
       "    </tr>\n",
       "    <tr>\n",
       "      <th>18</th>\n",
       "      <td>Four Rooms (1995)</td>\n",
       "      <td>Comedy</td>\n",
       "      <td>20.0</td>\n",
       "      <td>3.700000</td>\n",
       "    </tr>\n",
       "    <tr>\n",
       "      <th>19</th>\n",
       "      <td>Ace Ventura: When Nature Calls (1995)</td>\n",
       "      <td>Comedy</td>\n",
       "      <td>88.0</td>\n",
       "      <td>2.727273</td>\n",
       "    </tr>\n",
       "    <tr>\n",
       "      <th>21</th>\n",
       "      <td>Get Shorty (1995)</td>\n",
       "      <td>Comedy|Crime|Thriller</td>\n",
       "      <td>89.0</td>\n",
       "      <td>3.494382</td>\n",
       "    </tr>\n",
       "    <tr>\n",
       "      <th>32</th>\n",
       "      <td>Twelve Monkeys (a.k.a. 12 Monkeys) (1995)</td>\n",
       "      <td>Mystery|Sci-Fi|Thriller</td>\n",
       "      <td>177.0</td>\n",
       "      <td>3.983051</td>\n",
       "    </tr>\n",
       "  </tbody>\n",
       "</table>\n",
       "</div>"
      ],
      "text/plain": [
       "                                              title  \\\n",
       "movie_id                                              \n",
       "1                                  Toy Story (1995)   \n",
       "2                                    Jumanji (1995)   \n",
       "6                                       Heat (1995)   \n",
       "10                                 GoldenEye (1995)   \n",
       "12               Dracula: Dead and Loving It (1995)   \n",
       "16                                    Casino (1995)   \n",
       "18                                Four Rooms (1995)   \n",
       "19            Ace Ventura: When Nature Calls (1995)   \n",
       "21                                Get Shorty (1995)   \n",
       "32        Twelve Monkeys (a.k.a. 12 Monkeys) (1995)   \n",
       "\n",
       "                                               genres  watched  mean_rating  \n",
       "movie_id                                                                     \n",
       "1         Adventure|Animation|Children|Comedy|Fantasy    215.0     3.920930  \n",
       "2                          Adventure|Children|Fantasy    110.0     3.431818  \n",
       "6                               Action|Crime|Thriller    102.0     3.946078  \n",
       "10                          Action|Adventure|Thriller    132.0     3.496212  \n",
       "12                                      Comedy|Horror     19.0     2.421053  \n",
       "16                                        Crime|Drama     82.0     3.926829  \n",
       "18                                             Comedy     20.0     3.700000  \n",
       "19                                             Comedy     88.0     2.727273  \n",
       "21                              Comedy|Crime|Thriller     89.0     3.494382  \n",
       "32                            Mystery|Sci-Fi|Thriller    177.0     3.983051  "
      ]
     },
     "execution_count": 82,
     "metadata": {},
     "output_type": "execute_result"
    }
   ],
   "source": [
    "recomendations = get_recommendations(3)\n",
    "\n",
    "recomendations = movies.loc[[x[0] for x in recomendations]]\n",
    "recomendations.head(10)"
   ]
  },
  {
   "cell_type": "code",
   "execution_count": null,
   "metadata": {},
   "outputs": [],
   "source": []
  }
 ],
 "metadata": {
  "kernelspec": {
   "display_name": "Python 3",
   "language": "python",
   "name": "python3"
  },
  "language_info": {
   "codemirror_mode": {
    "name": "ipython",
    "version": 3
   },
   "file_extension": ".py",
   "mimetype": "text/x-python",
   "name": "python",
   "nbconvert_exporter": "python",
   "pygments_lexer": "ipython3",
   "version": "3.12.0"
  }
 },
 "nbformat": 4,
 "nbformat_minor": 2
}
