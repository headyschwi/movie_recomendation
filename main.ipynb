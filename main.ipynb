{
 "cells": [
  {
   "cell_type": "markdown",
   "metadata": {},
   "source": [
    "# 1. Aquisição dos Dados"
   ]
  },
  {
   "cell_type": "code",
   "execution_count": 1,
   "metadata": {},
   "outputs": [],
   "source": [
    "import pandas as pd\n",
    "import numpy as np"
   ]
  },
  {
   "cell_type": "code",
   "execution_count": 2,
   "metadata": {},
   "outputs": [],
   "source": [
    "movies = pd.DataFrame = pd.read_csv('movies.csv')\n",
    "ratings = pd.DataFrame = pd.read_csv('ratings.csv')"
   ]
  },
  {
   "cell_type": "markdown",
   "metadata": {},
   "source": [
    "# 2. Pré-processamento dos Dados"
   ]
  },
  {
   "cell_type": "code",
   "execution_count": 3,
   "metadata": {},
   "outputs": [
    {
     "data": {
      "text/html": [
       "<div>\n",
       "<style scoped>\n",
       "    .dataframe tbody tr th:only-of-type {\n",
       "        vertical-align: middle;\n",
       "    }\n",
       "\n",
       "    .dataframe tbody tr th {\n",
       "        vertical-align: top;\n",
       "    }\n",
       "\n",
       "    .dataframe thead th {\n",
       "        text-align: right;\n",
       "    }\n",
       "</style>\n",
       "<table border=\"1\" class=\"dataframe\">\n",
       "  <thead>\n",
       "    <tr style=\"text-align: right;\">\n",
       "      <th></th>\n",
       "      <th>title</th>\n",
       "      <th>genres</th>\n",
       "    </tr>\n",
       "    <tr>\n",
       "      <th>movie_id</th>\n",
       "      <th></th>\n",
       "      <th></th>\n",
       "    </tr>\n",
       "  </thead>\n",
       "  <tbody>\n",
       "    <tr>\n",
       "      <th>1</th>\n",
       "      <td>Toy Story (1995)</td>\n",
       "      <td>Adventure|Animation|Children|Comedy|Fantasy</td>\n",
       "    </tr>\n",
       "    <tr>\n",
       "      <th>2</th>\n",
       "      <td>Jumanji (1995)</td>\n",
       "      <td>Adventure|Children|Fantasy</td>\n",
       "    </tr>\n",
       "    <tr>\n",
       "      <th>3</th>\n",
       "      <td>Grumpier Old Men (1995)</td>\n",
       "      <td>Comedy|Romance</td>\n",
       "    </tr>\n",
       "    <tr>\n",
       "      <th>4</th>\n",
       "      <td>Waiting to Exhale (1995)</td>\n",
       "      <td>Comedy|Drama|Romance</td>\n",
       "    </tr>\n",
       "    <tr>\n",
       "      <th>5</th>\n",
       "      <td>Father of the Bride Part II (1995)</td>\n",
       "      <td>Comedy</td>\n",
       "    </tr>\n",
       "  </tbody>\n",
       "</table>\n",
       "</div>"
      ],
      "text/plain": [
       "                                       title  \\\n",
       "movie_id                                       \n",
       "1                           Toy Story (1995)   \n",
       "2                             Jumanji (1995)   \n",
       "3                    Grumpier Old Men (1995)   \n",
       "4                   Waiting to Exhale (1995)   \n",
       "5         Father of the Bride Part II (1995)   \n",
       "\n",
       "                                               genres  \n",
       "movie_id                                               \n",
       "1         Adventure|Animation|Children|Comedy|Fantasy  \n",
       "2                          Adventure|Children|Fantasy  \n",
       "3                                      Comedy|Romance  \n",
       "4                                Comedy|Drama|Romance  \n",
       "5                                              Comedy  "
      ]
     },
     "execution_count": 3,
     "metadata": {},
     "output_type": "execute_result"
    }
   ],
   "source": [
    "movies.columns = ['movie_id', 'title', 'genres']\n",
    "movies.set_index('movie_id', inplace=True)\n",
    "movies.head()"
   ]
  },
  {
   "cell_type": "code",
   "execution_count": 4,
   "metadata": {},
   "outputs": [],
   "source": [
    "ratings.columns = ['user_id', 'movie_id', 'rating', 'timestamp']"
   ]
  },
  {
   "cell_type": "code",
   "execution_count": 5,
   "metadata": {},
   "outputs": [],
   "source": [
    "movies[\"watched\"] = ratings.groupby(\"movie_id\")[\"rating\"].count()\n",
    "movies[\"mean_rating\"] = ratings.groupby(\"movie_id\")[\"rating\"].mean()"
   ]
  },
  {
   "cell_type": "code",
   "execution_count": 6,
   "metadata": {},
   "outputs": [
    {
     "data": {
      "text/html": [
       "<div>\n",
       "<style scoped>\n",
       "    .dataframe tbody tr th:only-of-type {\n",
       "        vertical-align: middle;\n",
       "    }\n",
       "\n",
       "    .dataframe tbody tr th {\n",
       "        vertical-align: top;\n",
       "    }\n",
       "\n",
       "    .dataframe thead th {\n",
       "        text-align: right;\n",
       "    }\n",
       "</style>\n",
       "<table border=\"1\" class=\"dataframe\">\n",
       "  <thead>\n",
       "    <tr style=\"text-align: right;\">\n",
       "      <th></th>\n",
       "      <th>title</th>\n",
       "      <th>genres</th>\n",
       "      <th>watched</th>\n",
       "      <th>mean_rating</th>\n",
       "    </tr>\n",
       "    <tr>\n",
       "      <th>movie_id</th>\n",
       "      <th></th>\n",
       "      <th></th>\n",
       "      <th></th>\n",
       "      <th></th>\n",
       "    </tr>\n",
       "  </thead>\n",
       "  <tbody>\n",
       "    <tr>\n",
       "      <th>1</th>\n",
       "      <td>Toy Story (1995)</td>\n",
       "      <td>Adventure|Animation|Children|Comedy|Fantasy</td>\n",
       "      <td>215.0</td>\n",
       "      <td>3.920930</td>\n",
       "    </tr>\n",
       "    <tr>\n",
       "      <th>2</th>\n",
       "      <td>Jumanji (1995)</td>\n",
       "      <td>Adventure|Children|Fantasy</td>\n",
       "      <td>110.0</td>\n",
       "      <td>3.431818</td>\n",
       "    </tr>\n",
       "    <tr>\n",
       "      <th>3</th>\n",
       "      <td>Grumpier Old Men (1995)</td>\n",
       "      <td>Comedy|Romance</td>\n",
       "      <td>52.0</td>\n",
       "      <td>3.259615</td>\n",
       "    </tr>\n",
       "    <tr>\n",
       "      <th>4</th>\n",
       "      <td>Waiting to Exhale (1995)</td>\n",
       "      <td>Comedy|Drama|Romance</td>\n",
       "      <td>7.0</td>\n",
       "      <td>2.357143</td>\n",
       "    </tr>\n",
       "    <tr>\n",
       "      <th>5</th>\n",
       "      <td>Father of the Bride Part II (1995)</td>\n",
       "      <td>Comedy</td>\n",
       "      <td>49.0</td>\n",
       "      <td>3.071429</td>\n",
       "    </tr>\n",
       "  </tbody>\n",
       "</table>\n",
       "</div>"
      ],
      "text/plain": [
       "                                       title  \\\n",
       "movie_id                                       \n",
       "1                           Toy Story (1995)   \n",
       "2                             Jumanji (1995)   \n",
       "3                    Grumpier Old Men (1995)   \n",
       "4                   Waiting to Exhale (1995)   \n",
       "5         Father of the Bride Part II (1995)   \n",
       "\n",
       "                                               genres  watched  mean_rating  \n",
       "movie_id                                                                     \n",
       "1         Adventure|Animation|Children|Comedy|Fantasy    215.0     3.920930  \n",
       "2                          Adventure|Children|Fantasy    110.0     3.431818  \n",
       "3                                      Comedy|Romance     52.0     3.259615  \n",
       "4                                Comedy|Drama|Romance      7.0     2.357143  \n",
       "5                                              Comedy     49.0     3.071429  "
      ]
     },
     "execution_count": 6,
     "metadata": {},
     "output_type": "execute_result"
    }
   ],
   "source": [
    "movies.head()"
   ]
  },
  {
   "cell_type": "markdown",
   "metadata": {},
   "source": [
    "# 3. Modelagem (KNN)"
   ]
  },
  {
   "cell_type": "markdown",
   "metadata": {},
   "source": [
    "## Obter distância entre o usuário e os outros"
   ]
  },
  {
   "cell_type": "code",
   "execution_count": 7,
   "metadata": {},
   "outputs": [],
   "source": [
    "def get_distances(user_id):\n",
    "    distancias = []\n",
    "    for user in ratings[\"user_id\"].unique():\n",
    "        if user_id == user:\n",
    "            continue\n",
    "\n",
    "        user1_ratings = ratings[ratings[\"user_id\"]==user_id][[\"movie_id\", \"rating\"]]\n",
    "        user2_ratings = ratings[ratings[\"user_id\"]==user][[\"movie_id\", \"rating\"]]\n",
    "\n",
    "        movies_in_common = pd.merge(user1_ratings, user2_ratings, on=\"movie_id\", suffixes=(\"_user1\", \"_user2\"))\n",
    "\n",
    "        if len(movies_in_common) < 10:\n",
    "            continue\n",
    "\n",
    "        distance = np.linalg.norm(movies_in_common[\"rating_user1\"] - movies_in_common[\"rating_user2\"])\n",
    "\n",
    "        distancias.append([user_id, user, distance])\n",
    "\n",
    "    distancias.sort(key=lambda x: x[2])\n",
    "    return distancias"
   ]
  },
  {
   "cell_type": "markdown",
   "metadata": {},
   "source": [
    "## Obter as recomendações com base nos K usuários mais próximos"
   ]
  },
  {
   "cell_type": "code",
   "execution_count": 33,
   "metadata": {},
   "outputs": [],
   "source": [
    "def get_recommendations(user_id, k=15, min_popularity=5, min_recomendations=3):\n",
    "    distances = get_distances(user_id)\n",
    "    user_movies = ratings[ratings[\"user_id\"]==user_id][[\"movie_id\", \"rating\"]]\n",
    "\n",
    "    recommendations = []\n",
    "    movie_neighbors_count = {}\n",
    "    movie_neighbors_score = {}\n",
    "\n",
    "    for neighbor in distances[:k]:\n",
    "        neighbor_id = neighbor[1]\n",
    "        neighbor_movies = ratings[ratings[\"user_id\"]==neighbor_id][[\"movie_id\", \"rating\"]]\n",
    "\n",
    "        for movie_id in neighbor_movies[\"movie_id\"].unique():\n",
    "\n",
    "            neighbor_movie_score = neighbor_movies[neighbor_movies[\"movie_id\"]==movie_id][\"rating\"].values[0]\n",
    "\n",
    "            if movie_id in user_movies[\"movie_id\"].unique():\n",
    "                continue\n",
    "\n",
    "            if movies.loc[movie_id][\"watched\"] < min_popularity:\n",
    "                continue\n",
    "\n",
    "            if movie_id in movie_neighbors_count:\n",
    "                movie_neighbors_count[movie_id] += 1\n",
    "                movie_neighbors_score[movie_id] += neighbor_movie_score\n",
    "\n",
    "            else:\n",
    "                movie_neighbors_count[movie_id] = 1\n",
    "                movie_neighbors_score[movie_id] = neighbor_movie_score\n",
    "\n",
    "    for movie_id in movie_neighbors_count:\n",
    "        if movie_neighbors_count[movie_id] >= min_recomendations:\n",
    "            recommendations.append([movie_id, movie_neighbors_score[movie_id] / movie_neighbors_count[movie_id]])\n",
    "\n",
    "    recommendations.sort(key=lambda x: x[1], reverse=True)\n",
    "    return recommendations"
   ]
  },
  {
   "cell_type": "markdown",
   "metadata": {},
   "source": [
    "## Transformar num dataframe"
   ]
  },
  {
   "cell_type": "code",
   "execution_count": 36,
   "metadata": {},
   "outputs": [
    {
     "data": {
      "text/html": [
       "<div>\n",
       "<style scoped>\n",
       "    .dataframe tbody tr th:only-of-type {\n",
       "        vertical-align: middle;\n",
       "    }\n",
       "\n",
       "    .dataframe tbody tr th {\n",
       "        vertical-align: top;\n",
       "    }\n",
       "\n",
       "    .dataframe thead th {\n",
       "        text-align: right;\n",
       "    }\n",
       "</style>\n",
       "<table border=\"1\" class=\"dataframe\">\n",
       "  <thead>\n",
       "    <tr style=\"text-align: right;\">\n",
       "      <th></th>\n",
       "      <th>title</th>\n",
       "      <th>genres</th>\n",
       "      <th>watched</th>\n",
       "      <th>mean_rating</th>\n",
       "      <th>expected_rating</th>\n",
       "    </tr>\n",
       "    <tr>\n",
       "      <th>movie_id</th>\n",
       "      <th></th>\n",
       "      <th></th>\n",
       "      <th></th>\n",
       "      <th></th>\n",
       "      <th></th>\n",
       "    </tr>\n",
       "  </thead>\n",
       "  <tbody>\n",
       "    <tr>\n",
       "      <th>318</th>\n",
       "      <td>Shawshank Redemption, The (1994)</td>\n",
       "      <td>Crime|Drama</td>\n",
       "      <td>317.0</td>\n",
       "      <td>4.429022</td>\n",
       "      <td>4.833333</td>\n",
       "    </tr>\n",
       "    <tr>\n",
       "      <th>589</th>\n",
       "      <td>Terminator 2: Judgment Day (1991)</td>\n",
       "      <td>Action|Sci-Fi</td>\n",
       "      <td>224.0</td>\n",
       "      <td>3.970982</td>\n",
       "      <td>4.700000</td>\n",
       "    </tr>\n",
       "    <tr>\n",
       "      <th>1221</th>\n",
       "      <td>Godfather: Part II, The (1974)</td>\n",
       "      <td>Crime|Drama</td>\n",
       "      <td>129.0</td>\n",
       "      <td>4.259690</td>\n",
       "      <td>4.600000</td>\n",
       "    </tr>\n",
       "    <tr>\n",
       "      <th>858</th>\n",
       "      <td>Godfather, The (1972)</td>\n",
       "      <td>Crime|Drama</td>\n",
       "      <td>192.0</td>\n",
       "      <td>4.289062</td>\n",
       "      <td>4.500000</td>\n",
       "    </tr>\n",
       "    <tr>\n",
       "      <th>32</th>\n",
       "      <td>Twelve Monkeys (a.k.a. 12 Monkeys) (1995)</td>\n",
       "      <td>Mystery|Sci-Fi|Thriller</td>\n",
       "      <td>177.0</td>\n",
       "      <td>3.983051</td>\n",
       "      <td>4.100000</td>\n",
       "    </tr>\n",
       "  </tbody>\n",
       "</table>\n",
       "</div>"
      ],
      "text/plain": [
       "                                              title                   genres  \\\n",
       "movie_id                                                                       \n",
       "318                Shawshank Redemption, The (1994)              Crime|Drama   \n",
       "589               Terminator 2: Judgment Day (1991)            Action|Sci-Fi   \n",
       "1221                 Godfather: Part II, The (1974)              Crime|Drama   \n",
       "858                           Godfather, The (1972)              Crime|Drama   \n",
       "32        Twelve Monkeys (a.k.a. 12 Monkeys) (1995)  Mystery|Sci-Fi|Thriller   \n",
       "\n",
       "          watched  mean_rating  expected_rating  \n",
       "movie_id                                         \n",
       "318         317.0     4.429022         4.833333  \n",
       "589         224.0     3.970982         4.700000  \n",
       "1221        129.0     4.259690         4.600000  \n",
       "858         192.0     4.289062         4.500000  \n",
       "32          177.0     3.983051         4.100000  "
      ]
     },
     "execution_count": 36,
     "metadata": {},
     "output_type": "execute_result"
    }
   ],
   "source": [
    "recomendations = get_recommendations(1, k=15, min_popularity=50, min_recomendations=5)\n",
    "\n",
    "recomendacoes = movies.loc[[x[0] for x in recomendations]]\n",
    "recomendacoes[\"expected_rating\"] = [x[1] for x in recomendations]\n",
    "recomendacoes.sort_values(\"expected_rating\", ascending=False, inplace=True)\n",
    "\n",
    "recomendacoes.head(10)\n"
   ]
  },
  {
   "cell_type": "code",
   "execution_count": null,
   "metadata": {},
   "outputs": [],
   "source": []
  }
 ],
 "metadata": {
  "kernelspec": {
   "display_name": "Python 3",
   "language": "python",
   "name": "python3"
  },
  "language_info": {
   "codemirror_mode": {
    "name": "ipython",
    "version": 3
   },
   "file_extension": ".py",
   "mimetype": "text/x-python",
   "name": "python",
   "nbconvert_exporter": "python",
   "pygments_lexer": "ipython3",
   "version": "3.12.0"
  }
 },
 "nbformat": 4,
 "nbformat_minor": 2
}
